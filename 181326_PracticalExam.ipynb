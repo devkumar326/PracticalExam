{
  "nbformat": 4,
  "nbformat_minor": 0,
  "metadata": {
    "colab": {
      "name": "181326_PracticalExam.ipynb",
      "provenance": [],
      "collapsed_sections": [],
      "authorship_tag": "ABX9TyNww0DLFuuGWMLxUIW4pXqf",
      "include_colab_link": true
    },
    "kernelspec": {
      "name": "python3",
      "display_name": "Python 3"
    }
  },
  "cells": [
    {
      "cell_type": "markdown",
      "metadata": {
        "id": "view-in-github",
        "colab_type": "text"
      },
      "source": [
        "<a href=\"https://colab.research.google.com/github/devkumar326/PracticalExam/blob/main/181326_PracticalExam.ipynb\" target=\"_parent\"><img src=\"https://colab.research.google.com/assets/colab-badge.svg\" alt=\"Open In Colab\"/></a>"
      ]
    },
    {
      "cell_type": "code",
      "metadata": {
        "id": "XLuTkHlmO1Pe"
      },
      "source": [
        "def fact(m):\n",
        "  x=1\n",
        "  for i in range (1,m+1):\n",
        "    x=x*i\n",
        "  return x"
      ],
      "execution_count": 31,
      "outputs": []
    },
    {
      "cell_type": "code",
      "metadata": {
        "id": "wM-Lt-FTPZzi",
        "outputId": "00a2e542-3eb6-4d5c-ec22-b5d6048bcf4a",
        "colab": {
          "base_uri": "https://localhost:8080/",
          "height": 34
        }
      },
      "source": [
        "#Ques 1\n",
        "n=20\n",
        "r=5\n",
        "p=0.1 #return an item\n",
        "f=0.9 #not return an item\n",
        "p1=fact(n)/(fact(r)*fact(n-r))*(p**r)*(f**(n-r))\n",
        "print(\"Probability of exactly 5 items being returned : {:.3f}\".format(p1))"
      ],
      "execution_count": 36,
      "outputs": [
        {
          "output_type": "stream",
          "text": [
            "Probability of exactly 5 items being returned : 0.032\n"
          ],
          "name": "stdout"
        }
      ]
    },
    {
      "cell_type": "code",
      "metadata": {
        "id": "S2yZz00oQPCN",
        "outputId": "616ca040-0be9-4c1d-ffb8-2bcbc124eadd",
        "colab": {
          "base_uri": "https://localhost:8080/",
          "height": 34
        }
      },
      "source": [
        "#Ques 2\n",
        "n=20\n",
        "p2=0\n",
        "for i in range (6):\n",
        "  r=i\n",
        "  p=0.1\n",
        "  f=0.9\n",
        "  p1=fact(n)/(fact(r)*fact(n-r))*(p**r)*(f**(n-r))\n",
        "  p2=p2+p1\n",
        "print(\"Probability of at maximum 5 items being returned : {:.3f}\".format(p2))"
      ],
      "execution_count": 37,
      "outputs": [
        {
          "output_type": "stream",
          "text": [
            "Probability of at maximum 5 items being returned : 0.989\n"
          ],
          "name": "stdout"
        }
      ]
    },
    {
      "cell_type": "code",
      "metadata": {
        "id": "URovQ5rwRSIs",
        "outputId": "3843673a-dfa6-46a3-8cec-28984e8d9972",
        "colab": {
          "base_uri": "https://localhost:8080/",
          "height": 34
        }
      },
      "source": [
        "#Ques 3\n",
        "p3=1-p2\n",
        "print(\"Probability of more than 5 items being returned : {:.3f}\".format(p3))"
      ],
      "execution_count": 38,
      "outputs": [
        {
          "output_type": "stream",
          "text": [
            "Probability of more than 5 items being returned : 0.011\n"
          ],
          "name": "stdout"
        }
      ]
    }
  ]
}
