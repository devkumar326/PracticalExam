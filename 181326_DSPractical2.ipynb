{
  "nbformat": 4,
  "nbformat_minor": 0,
  "metadata": {
    "colab": {
      "name": "181326_DSPractical2.ipynb",
      "provenance": []
    },
    "kernelspec": {
      "name": "python3",
      "display_name": "Python 3"
    }
  },
  "cells": [
    {
      "cell_type": "code",
      "metadata": {
        "id": "N2MKFknaK9z0"
      },
      "source": [
        "import matplotlib.pyplot as plt\n",
        "import numpy as np\n",
        "from matplotlib.offsetbox import AnchoredText\n",
        "fig,a = plt.subplots(3,1)\n",
        "%matplotlib inline"
      ],
      "execution_count": 1,
      "outputs": []
    },
    {
      "cell_type": "code",
      "metadata": {
        "id": "AHJL-HcMLrfn"
      },
      "source": [
        "x=([0,1,2,3,4,5,6,7,8,9,10,11,12,13,14,15])\n",
        "y1=([34.7,34.5,37.16,34.12,34.03,29.46,33.35,30.53,34.76,32.56,34.59,33.76,34.152,34.208,30.192,85.08])\n",
        "y2=([39.778,42.144,38.288,39.68,40.784,42.32,38.64,41.29,40.37,43.22,35.87,39.50,41.14,37.32,45.64,88.504])\n",
        "y3=([48.09,43.91,45.76,45.112,46.744,43.864,47.264,48.122,45.76,44.576,45.504,46.328,44.448,46.432,48.472,91.272])"
      ],
      "execution_count": 2,
      "outputs": []
    },
    {
      "cell_type": "code",
      "metadata": {
        "colab": {
          "base_uri": "https://localhost:8080/",
          "height": 300
        },
        "id": "Hdsl2vcKLxsm",
        "outputId": "c230d0bb-0e02-43ca-e210-958e56d4d6d9"
      },
      "source": [
        "x_pos = 0.0\n",
        "y_pos = 60.0\n",
        "plt.subplot(311)\n",
        "plt.text(x_pos, y_pos, max(y1))\n",
        "plt.xlabel('ID')\n",
        "plt.ylabel('CASINO 1')\n",
        "plt.axis([-0.5,15.5,0,100])\n",
        "plt.bar(x,y1,color=\"green\")\n",
        "plt.subplot(312)\n",
        "plt.text(x_pos, y_pos, max(y2))\n",
        "plt.xlabel('ID')\n",
        "plt.ylabel('CASINO 2')\n",
        "plt.axis([-0.5,15.5,0,100])\n",
        "plt.bar(x,y2)\n",
        "plt.subplot(313)\n",
        "plt.text(x_pos, y_pos, max(y3))\n",
        "plt.xlabel('ID')\n",
        "plt.ylabel('CASINO 3')\n",
        "plt.axis([-0.5,15.5,0,100])\n",
        "plt.bar(x,y3,color=\"red\")"
      ],
      "execution_count": 6,
      "outputs": [
        {
          "output_type": "execute_result",
          "data": {
            "text/plain": [
              "<BarContainer object of 16 artists>"
            ]
          },
          "metadata": {
            "tags": []
          },
          "execution_count": 6
        },
        {
          "output_type": "display_data",
          "data": {
            "image/png": "[encoded data removed]",
            "text/plain": [
              "<Figure size 432x288 with 3 Axes>"
            ]
          },
          "metadata": {
            "tags": [],
            "needs_background": "light"
          }
        }
      ]
    }
  ]
}